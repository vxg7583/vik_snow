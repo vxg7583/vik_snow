{
 "metadata": {
  "kernelspec": {
   "display_name": "Streamlit Notebook",
   "name": "streamlit"
  },
  "lastEditStatus": {
   "notebookId": "r3yowkbgkudgdmi6vgjd",
   "authorId": "1498931345808",
   "authorName": "VIKRANT06",
   "authorEmail": "vikrant.gawde@snowflake.com",
   "sessionId": "25f1f29f-d63b-4f93-943e-e120ff22ab77",
   "lastEditTime": 1755012715361
  }
 },
 "nbformat_minor": 5,
 "nbformat": 4,
 "cells": [
  {
   "cell_type": "code",
   "id": "9b50346b-e6fe-4d73-9661-6dc174535e32",
   "metadata": {
    "language": "python",
    "name": "cell5",
    "collapsed": false,
    "codeCollapsed": false
   },
   "outputs": [],
   "source": "import snowflake.snowpark as snp\nimport pandas as pd\n# We can also use Snowpark for our analyses!\nfrom snowflake.snowpark.context import get_active_session\nsession = get_active_session()\n\n# Assume 'session' is an active Snowpark session\n# Assume 'snowpark_df' is an existing Snowpark DataFrame\n\n# Example: Create a sample Snowpark DataFrame for demonstration\ndata = [(\"Alice\", 1), (\"Bob\", 2), (\"Charlie\", 3)]\nschema = [\"Name\", \"ID\"]\nsnowpark_df = session.create_dataframe(data, schema)\n\n# Convert the Snowpark DataFrame to a pandas DataFrame\npandas_df = snowpark_df.to_pandas()\n\n# Now 'pandas_df' is a native pandas DataFrame that can be used for local operations\nprint(pandas_df.head())",
   "execution_count": null
  },
  {
   "cell_type": "code",
   "id": "3775908f-ca36-4846-8f38-5adca39217f2",
   "metadata": {
    "language": "python",
    "name": "cell1"
   },
   "source": "# Import python packages\nimport streamlit as st\nimport pandas as pd\n\n# We can also use Snowpark for our analyses!\nfrom snowflake.snowpark.context import get_active_session\nsession = get_active_session()\n",
   "execution_count": null,
   "outputs": []
  },
  {
   "cell_type": "code",
   "id": "8d50cbf4-0c8d-4950-86cb-114990437ac9",
   "metadata": {
    "language": "sql",
    "name": "cell2"
   },
   "source": "-- Welcome to Snowflake Notebooks!\n-- Try out a SQL cell to generate some data.\nSELECT 'FRIDAY' as SNOWDAY, 0.2 as CHANCE_OF_SNOW\nUNION ALL\nSELECT 'SATURDAY',0.5\nUNION ALL \nSELECT 'SUNDAY', 0.9;",
   "execution_count": null,
   "outputs": []
  },
  {
   "cell_type": "code",
   "id": "c695373e-ac74-4b62-a1f1-08206cbd5c81",
   "metadata": {
    "language": "python",
    "name": "cell3"
   },
   "source": "# Then, we can use the python name to turn cell2 into a Pandas dataframe\nmy_df = cell2.to_pandas()\n\n# Chart the data\nst.subheader(\"Chance of SNOW ❄️\")\nst.line_chart(my_df, x='SNOWDAY', y='CHANCE_OF_SNOW')\n\n# Give it a go!\nst.subheader(\"Try it out yourself and show off your skills 🥇\")",
   "execution_count": null,
   "outputs": []
  },
  {
   "cell_type": "code",
   "id": "a93c2866-a3e9-42fd-9bb7-a3feec0daeda",
   "metadata": {
    "language": "python",
    "name": "cell4"
   },
   "outputs": [],
   "source": "",
   "execution_count": null
  }
 ]
}